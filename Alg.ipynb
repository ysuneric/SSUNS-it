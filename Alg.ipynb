{
 "cells": [
  {
   "cell_type": "markdown",
   "metadata": {
    "collapsed": true
   },
   "source": [
    "### Country Automation\n",
    "\n",
    "To do the country automation, a priority lottery will be utilized\n",
    "\n",
    "#### Requirements\n",
    "1. Pandas - python library\n",
    "2. CSV of schools, delegate numbers, entries, countries, country positions, characters"
   ]
  },
  {
   "cell_type": "code",
   "execution_count": 2,
   "metadata": {},
   "outputs": [
    {
     "data": {
      "text/html": [
       "<div>\n",
       "<style>\n",
       "    .dataframe thead tr:only-child th {\n",
       "        text-align: right;\n",
       "    }\n",
       "\n",
       "    .dataframe thead th {\n",
       "        text-align: left;\n",
       "    }\n",
       "\n",
       "    .dataframe tbody tr th {\n",
       "        vertical-align: top;\n",
       "    }\n",
       "</style>\n",
       "<table border=\"1\" class=\"dataframe\">\n",
       "  <thead>\n",
       "    <tr style=\"text-align: right;\">\n",
       "      <th></th>\n",
       "      <th>Schools</th>\n",
       "      <th>Delegates</th>\n",
       "      <th>Entries</th>\n",
       "      <th>Countries</th>\n",
       "      <th>Positions</th>\n",
       "      <th>Characters</th>\n",
       "    </tr>\n",
       "  </thead>\n",
       "  <tbody>\n",
       "    <tr>\n",
       "      <th>0</th>\n",
       "      <td>School 1</td>\n",
       "      <td>34.0</td>\n",
       "      <td>3.0</td>\n",
       "      <td>Country 1</td>\n",
       "      <td>3</td>\n",
       "      <td>Character 1</td>\n",
       "    </tr>\n",
       "    <tr>\n",
       "      <th>1</th>\n",
       "      <td>School 2</td>\n",
       "      <td>11.0</td>\n",
       "      <td>3.0</td>\n",
       "      <td>Country 2</td>\n",
       "      <td>11</td>\n",
       "      <td>character 2</td>\n",
       "    </tr>\n",
       "    <tr>\n",
       "      <th>2</th>\n",
       "      <td>School 3</td>\n",
       "      <td>14.0</td>\n",
       "      <td>3.0</td>\n",
       "      <td>Country 3</td>\n",
       "      <td>11</td>\n",
       "      <td>Character 3</td>\n",
       "    </tr>\n",
       "    <tr>\n",
       "      <th>3</th>\n",
       "      <td>School 4</td>\n",
       "      <td>19.0</td>\n",
       "      <td>3.0</td>\n",
       "      <td>Country 4</td>\n",
       "      <td>12</td>\n",
       "      <td>Character 4</td>\n",
       "    </tr>\n",
       "    <tr>\n",
       "      <th>4</th>\n",
       "      <td>School 5</td>\n",
       "      <td>23.0</td>\n",
       "      <td>2.0</td>\n",
       "      <td>Country 5</td>\n",
       "      <td>4</td>\n",
       "      <td>Character 5</td>\n",
       "    </tr>\n",
       "    <tr>\n",
       "      <th>5</th>\n",
       "      <td>School 6</td>\n",
       "      <td>27.0</td>\n",
       "      <td>5.0</td>\n",
       "      <td>Country 6</td>\n",
       "      <td>2</td>\n",
       "      <td>Character 6</td>\n",
       "    </tr>\n",
       "    <tr>\n",
       "      <th>6</th>\n",
       "      <td>School 7</td>\n",
       "      <td>1.0</td>\n",
       "      <td>2.0</td>\n",
       "      <td>Country 7</td>\n",
       "      <td>4</td>\n",
       "      <td>Character 7</td>\n",
       "    </tr>\n",
       "    <tr>\n",
       "      <th>7</th>\n",
       "      <td>School 8</td>\n",
       "      <td>31.0</td>\n",
       "      <td>1.0</td>\n",
       "      <td>Country 8</td>\n",
       "      <td>7</td>\n",
       "      <td>Character 8</td>\n",
       "    </tr>\n",
       "    <tr>\n",
       "      <th>8</th>\n",
       "      <td>School 9</td>\n",
       "      <td>13.0</td>\n",
       "      <td>4.0</td>\n",
       "      <td>Country 9</td>\n",
       "      <td>10</td>\n",
       "      <td>Character 9</td>\n",
       "    </tr>\n",
       "    <tr>\n",
       "      <th>9</th>\n",
       "      <td>School 10</td>\n",
       "      <td>27.0</td>\n",
       "      <td>1.0</td>\n",
       "      <td>Country 10</td>\n",
       "      <td>12</td>\n",
       "      <td>Character 10</td>\n",
       "    </tr>\n",
       "  </tbody>\n",
       "</table>\n",
       "</div>"
      ],
      "text/plain": [
       "     Schools  Delegates  Entries   Countries  Positions    Characters\n",
       "0   School 1       34.0      3.0   Country 1          3   Character 1\n",
       "1   School 2       11.0      3.0   Country 2         11   character 2\n",
       "2   School 3       14.0      3.0   Country 3         11   Character 3\n",
       "3   School 4       19.0      3.0   Country 4         12   Character 4\n",
       "4   School 5       23.0      2.0   Country 5          4   Character 5\n",
       "5   School 6       27.0      5.0   Country 6          2   Character 6\n",
       "6   School 7        1.0      2.0   Country 7          4   Character 7\n",
       "7   School 8       31.0      1.0   Country 8          7   Character 8\n",
       "8   School 9       13.0      4.0   Country 9         10   Character 9\n",
       "9  School 10       27.0      1.0  Country 10         12  Character 10"
      ]
     },
     "execution_count": 2,
     "metadata": {},
     "output_type": "execute_result"
    }
   ],
   "source": [
    "# Import necessary libraries, get setup\n",
    "import pandas as pd\n",
    "import numpy as np\n",
    "from random import randint\n",
    "from random import shuffle\n",
    "\n",
    "data = pd.read_csv('./data.csv')\n",
    "data[0:10]"
   ]
  },
  {
   "cell_type": "markdown",
   "metadata": {},
   "source": [
    "### Setup school data: grab schools, delegates, entries and drop the NaN"
   ]
  },
  {
   "cell_type": "code",
   "execution_count": 3,
   "metadata": {},
   "outputs": [
    {
     "data": {
      "text/plain": [
       "[{'characters': [],\n",
       "  'countries': [],\n",
       "  'delegates': 34,\n",
       "  'entries': 3,\n",
       "  'remaining': 34,\n",
       "  'school': 'School 1'},\n",
       " {'characters': [],\n",
       "  'countries': [],\n",
       "  'delegates': 11,\n",
       "  'entries': 3,\n",
       "  'remaining': 11,\n",
       "  'school': 'School 2'},\n",
       " {'characters': [],\n",
       "  'countries': [],\n",
       "  'delegates': 14,\n",
       "  'entries': 3,\n",
       "  'remaining': 14,\n",
       "  'school': 'School 3'}]"
      ]
     },
     "execution_count": 3,
     "metadata": {},
     "output_type": "execute_result"
    }
   ],
   "source": [
    "schools_arr = data[['Schools','Delegates','Entries']].dropna()\n",
    "schools = []\n",
    "for i in range(schools_arr.shape[0]):\n",
    "    schools.append(\n",
    "        {'school': str(schools_arr.at[i,'Schools']), \n",
    "         'delegates': int(schools_arr.at[i,'Delegates']),\n",
    "         'entries': int(schools_arr.at[i,'Entries']),\n",
    "         'remaining': int(schools_arr.at[i,'Delegates']),\n",
    "         'countries': [], 'characters': []\n",
    "        }\n",
    "    )\n",
    "schools[0:3]"
   ]
  },
  {
   "cell_type": "markdown",
   "metadata": {},
   "source": [
    "### Setup country data: country name and position"
   ]
  },
  {
   "cell_type": "code",
   "execution_count": 4,
   "metadata": {},
   "outputs": [
    {
     "data": {
      "text/plain": [
       "[{'country': 'Country 1', 'positions': 3},\n",
       " {'country': 'Country 2', 'positions': 11},\n",
       " {'country': 'Country 3', 'positions': 11}]"
      ]
     },
     "execution_count": 4,
     "metadata": {},
     "output_type": "execute_result"
    }
   ],
   "source": [
    "country_arr = data[['Countries','Positions']].dropna()\n",
    "countries = []\n",
    "for i in range(country_arr.shape[0]):\n",
    "    countries.append({'country': str(country_arr.at[i,'Countries']),'positions': int(country_arr.at[i,'Positions'])})\n",
    "countries[0:3]"
   ]
  },
  {
   "cell_type": "markdown",
   "metadata": {},
   "source": [
    "### Setup character name: character name"
   ]
  },
  {
   "cell_type": "code",
   "execution_count": 5,
   "metadata": {},
   "outputs": [
    {
     "data": {
      "text/plain": [
       "[{'character': 'Character 1'},\n",
       " {'character': 'character 2'},\n",
       " {'character': 'Character 3'}]"
      ]
     },
     "execution_count": 5,
     "metadata": {},
     "output_type": "execute_result"
    }
   ],
   "source": [
    "char_arr = data[['Characters']].dropna()\n",
    "characters = []\n",
    "for i in range(char_arr.shape[0]):\n",
    "    characters.append({'character': str(char_arr.at[i,'Characters'])})\n",
    "characters[0:3]"
   ]
  },
  {
   "cell_type": "markdown",
   "metadata": {},
   "source": [
    "### Setup the priority 'hat'. Put several of each school name in the hat (determined by entry number)"
   ]
  },
  {
   "cell_type": "code",
   "execution_count": 6,
   "metadata": {},
   "outputs": [
    {
     "data": {
      "text/plain": [
       "['School 17', 'School 21', 'School 18']"
      ]
     },
     "execution_count": 6,
     "metadata": {},
     "output_type": "execute_result"
    }
   ],
   "source": [
    "# Create the priority lottery array\n",
    "school_priority_list = []\n",
    "for entry in schools:\n",
    "    school_priority_list += [entry['school']] * entry['entries']\n",
    "shuffle(school_priority_list)\n",
    "school_priority_list[0:3]"
   ]
  },
  {
   "cell_type": "markdown",
   "metadata": {},
   "source": [
    "### Now, we have the data prepared; define some functions to check if we are done; first constants"
   ]
  },
  {
   "cell_type": "code",
   "execution_count": 7,
   "metadata": {
    "collapsed": true
   },
   "outputs": [],
   "source": [
    "percentageCountry = 0.80\n",
    "schoolsOnNextStage = []\n",
    "assignAttemps = 25"
   ]
  },
  {
   "cell_type": "markdown",
   "metadata": {},
   "source": [
    "### doneCountries() will determine if we are finished the country stage\n",
    "### assignCountry() will assign a country to a school (the algorithm)\n",
    "### findIndexOfSchool() will use schoolName to find school object in the schools array\n",
    "### removeFromPriority() will remove all the entries of a school, once its has enough country assignments"
   ]
  },
  {
   "cell_type": "code",
   "execution_count": 8,
   "metadata": {
    "collapsed": true
   },
   "outputs": [],
   "source": [
    "def doneCountries(currIteration,maxIterations):\n",
    "    if currIteration >= maxIterations:\n",
    "        return True\n",
    "    if len(schools) == 0:\n",
    "        return True\n",
    "    if len(school_priority_list) == 0:\n",
    "        return True\n",
    "    if len(countries) == 0:\n",
    "        return True\n",
    "    return False\n",
    "\n",
    "def assignCountry():\n",
    "    country = countries[0]\n",
    "    for i in range(assignAttemps):\n",
    "        randInt = randint(0, len(school_priority_list) - 1) \n",
    "        schoolName = school_priority_list[randInt]\n",
    "        ind = findIndexOfSchool(schoolName)\n",
    "        if schools[ind]['remaining'] < country['positions']:\n",
    "            continue\n",
    "        else:\n",
    "            schools[ind]['countries'].append(countries.pop(0))\n",
    "            schools[ind]['remaining'] = schools[ind]['remaining'] - country['positions']\n",
    "            if schools[ind]['remaining'] <= int((1.00-percentageCountry)*schools[ind]['delegates']):\n",
    "                schoolsOnNextStage.append(schools.pop(ind))\n",
    "                removeFromPriority(schoolName)\n",
    "            return\n",
    "            \n",
    "    # if the function gets here, it wasn't able to assign the country: move it to the end\n",
    "    countries.append(country)\n",
    "    countries.pop(0)\n",
    "        \n",
    "def findIndexOfSchool(schoolName):\n",
    "    for i in range(len(schools)):\n",
    "        if schools[i]['school'] == schoolName:\n",
    "            return i\n",
    "    raise Exception(\"Can't find \" + schoolName + \" in the list\")\n",
    "    \n",
    "def removeFromPriority(schoolName):\n",
    "    i = 0\n",
    "    while i < len(school_priority_list):\n",
    "        if school_priority_list[i] == schoolName:\n",
    "            school_priority_list.pop(i)\n",
    "        else:\n",
    "            i = i + 1"
   ]
  },
  {
   "cell_type": "markdown",
   "metadata": {},
   "source": [
    "### algorithmCountries() loop to assign countries; if there are remaining schools, add them to the schoolsOnNextStage array at the end"
   ]
  },
  {
   "cell_type": "code",
   "execution_count": 9,
   "metadata": {
    "collapsed": true
   },
   "outputs": [],
   "source": [
    "def algorithmCountries():\n",
    "    maxIterations = 10000\n",
    "    currIteration = 0\n",
    "    while not doneCountries(currIteration,maxIterations):\n",
    "        assignCountry()\n",
    "        currIteration = currIteration + 1\n",
    "    for school in schools:\n",
    "        schoolsOnNextStage.append(school)"
   ]
  },
  {
   "cell_type": "code",
   "execution_count": 10,
   "metadata": {},
   "outputs": [
    {
     "data": {
      "text/plain": [
       "[{'characters': [],\n",
       "  'countries': [{'country': 'Country 6', 'positions': 2},\n",
       "   {'country': 'Country 8', 'positions': 7}],\n",
       "  'delegates': 11,\n",
       "  'entries': 3,\n",
       "  'remaining': 2,\n",
       "  'school': 'School 2'},\n",
       " {'characters': [],\n",
       "  'countries': [{'country': 'Country 17', 'positions': 6}],\n",
       "  'delegates': 6,\n",
       "  'entries': 5,\n",
       "  'remaining': 0,\n",
       "  'school': 'School 22'},\n",
       " {'characters': [],\n",
       "  'countries': [{'country': 'Country 14', 'positions': 7},\n",
       "   {'country': 'Country 28', 'positions': 10}],\n",
       "  'delegates': 18,\n",
       "  'entries': 4,\n",
       "  'remaining': 1,\n",
       "  'school': 'School 13'}]"
      ]
     },
     "execution_count": 10,
     "metadata": {},
     "output_type": "execute_result"
    }
   ],
   "source": [
    "algorithmCountries()\n",
    "schoolsOnNextStage[0:3]"
   ]
  },
  {
   "cell_type": "code",
   "execution_count": 11,
   "metadata": {},
   "outputs": [
    {
     "data": {
      "text/plain": [
       "[{'country': 'Country 86', 'positions': 9},\n",
       " {'country': 'Country 89', 'positions': 9},\n",
       " {'country': 'Country 90', 'positions': 5}]"
      ]
     },
     "execution_count": 11,
     "metadata": {},
     "output_type": "execute_result"
    }
   ],
   "source": [
    "countries[0:3]"
   ]
  },
  {
   "cell_type": "code",
   "execution_count": 12,
   "metadata": {},
   "outputs": [
    {
     "data": {
      "text/plain": [
       "[{'characters': [],\n",
       "  'countries': [{'country': 'Country 17', 'positions': 6}],\n",
       "  'delegates': 6,\n",
       "  'entries': 5,\n",
       "  'remaining': 0,\n",
       "  'school': 'School 22'},\n",
       " {'characters': [],\n",
       "  'countries': [{'country': 'Country 3', 'positions': 11},\n",
       "   {'country': 'Country 38', 'positions': 5}],\n",
       "  'delegates': 16,\n",
       "  'entries': 3,\n",
       "  'remaining': 0,\n",
       "  'school': 'School 21'},\n",
       " {'characters': [],\n",
       "  'countries': [{'country': 'Country 2', 'positions': 11},\n",
       "   {'country': 'Country 39', 'positions': 3}],\n",
       "  'delegates': 14,\n",
       "  'entries': 3,\n",
       "  'remaining': 0,\n",
       "  'school': 'School 3'}]"
      ]
     },
     "execution_count": 12,
     "metadata": {},
     "output_type": "execute_result"
    }
   ],
   "source": [
    "finishedSchools = []\n",
    "\n",
    "def doneCharacters(currIteration,maxIterations):\n",
    "    if currIteration >= maxIterations:\n",
    "        return True\n",
    "    if len(schoolsOnNextStage) == 0:\n",
    "        return True\n",
    "    if len(characters) == 0:\n",
    "        return True\n",
    "    return False\n",
    "\n",
    "def assignCharacters():\n",
    "    if len(schoolsOnNextStage) == 0:\n",
    "        return\n",
    "    \n",
    "    randInt = randint(0, len(schoolsOnNextStage) - 1)\n",
    "    if schoolsOnNextStage[randInt]['remaining'] == 0:\n",
    "        return\n",
    "    else:\n",
    "        schoolsOnNextStage[randInt]['characters'].append(characters.pop(0))\n",
    "        schoolsOnNextStage[randInt]['remaining'] = schoolsOnNextStage[randInt]['remaining'] - 1\n",
    "\n",
    "def removeZeroRemaining():\n",
    "    i = 0\n",
    "    while i < len(schoolsOnNextStage):\n",
    "        if schoolsOnNextStage[i]['remaining'] == 0:\n",
    "            finishedSchools.append(schoolsOnNextStage.pop(i))\n",
    "        else:\n",
    "            i = i + 1\n",
    "        \n",
    "def algorithmCharacters():\n",
    "    maxIterations = 10000\n",
    "    currIteration = 0\n",
    "    while not doneCharacters(currIteration,maxIterations):\n",
    "        removeZeroRemaining()\n",
    "        assignCharacters()\n",
    "        currIteration = currIteration + 1\n",
    "    for school in schoolsOnNextStage:\n",
    "        finishedSchools.append(school)\n",
    "        \n",
    "algorithmCharacters()\n",
    "finishedSchools[0:3]"
   ]
  },
  {
   "cell_type": "code",
   "execution_count": 13,
   "metadata": {},
   "outputs": [
    {
     "data": {
      "text/plain": [
       "[{'character': 'Character 43'},\n",
       " {'character': 'Character 44'},\n",
       " {'character': 'Character 45'}]"
      ]
     },
     "execution_count": 13,
     "metadata": {},
     "output_type": "execute_result"
    }
   ],
   "source": [
    "characters[0:3]"
   ]
  },
  {
   "cell_type": "code",
   "execution_count": 14,
   "metadata": {
    "collapsed": true
   },
   "outputs": [],
   "source": [
    "with open('output.csv','w') as fp:\n",
    "    fp.write(\"School,Delegates,Remaining\\n\")\n",
    "    for school in finishedSchools:\n",
    "        line = \"\"\n",
    "        line += school['school'] + ','\n",
    "        line += str(school['delegates']) + ','\n",
    "        line += str(school['remaining']) + ','\n",
    "        for country in school['countries']:\n",
    "            line += country['country'] + \" (\" + str(country['positions']) + \"),\"\n",
    "        for character in school['characters']:\n",
    "            line += character['character'] + \",\"\n",
    "        if line.endswith(','):\n",
    "            line = line[:-1] + \"\\n\"\n",
    "        else:\n",
    "            line = line + \"\\n\"\n",
    "        fp.write(line)"
   ]
  },
  {
   "cell_type": "code",
   "execution_count": null,
   "metadata": {
    "collapsed": true
   },
   "outputs": [],
   "source": []
  }
 ],
 "metadata": {
  "kernelspec": {
   "display_name": "Python 3",
   "language": "python",
   "name": "python3"
  },
  "language_info": {
   "codemirror_mode": {
    "name": "ipython",
    "version": 3
   },
   "file_extension": ".py",
   "mimetype": "text/x-python",
   "name": "python",
   "nbconvert_exporter": "python",
   "pygments_lexer": "ipython3",
   "version": "3.6.3"
  }
 },
 "nbformat": 4,
 "nbformat_minor": 2
}
